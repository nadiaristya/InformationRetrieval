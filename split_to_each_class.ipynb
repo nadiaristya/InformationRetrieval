{
 "cells": [
  {
   "cell_type": "code",
   "execution_count": 1,
   "metadata": {},
   "outputs": [],
   "source": [
    "import pandas as p\n",
    "import csv"
   ]
  },
  {
   "cell_type": "code",
   "execution_count": 6,
   "metadata": {},
   "outputs": [],
   "source": [
    "data = p.read_csv('gabungan_tweetutf2.csv', encoding ='latin-1')\n",
    "a = data['class'].unique()\n",
    "b = data.drop('class', axis = 1)"
   ]
  },
  {
   "cell_type": "code",
   "execution_count": 7,
   "metadata": {},
   "outputs": [
    {
     "name": "stdout",
     "output_type": "stream",
     "text": [
      "                                                 comment\n",
      "0      INDOSAT;@indosatcare Kenapa kartu diregistrasi...\n",
      "1      INDOSAT;indosat mantap djaja koneksinya  ngebu...\n",
      "2      INDOSAT;Membalas @IndosatCare @IndosatCare mau...\n",
      "3      INDOSAT;Sinyal Indosat asu ari musim hujan had...\n",
      "4      TRI;Membalas @triindonesia Cek dm woi  layanan...\n",
      "5      XL;Ini kenapa di bale endah sinyal XL tiba2 ba...\n",
      "6      TRI;Hotsale 8GB hanya gratis nelfon aja ga ada...\n",
      "7      TRI;Membalas @andikapram_ @IndosatCare dan 2 l...\n",
      "8      TSEL;Membalas @tsel_malang @tsel_malang iya mi...\n",
      "9      INDOSAT;\"@IndosatCare 30 ribu saya beneran ata...\n",
      "10                   XL;Sinyal kencang XL mantabbbzz :D \n",
      "11     INDOSAT;@IndosatCare tolong kasih penjelasan y...\n",
      "12     INDOSAT;yang lagi mau liburan di The Jungle Bo...\n",
      "13     TRI;Membalas @rapdodge @triindonesia Saya juga...\n",
      "14     TRI;JIKALAU MASALAH SDM YG MENGAKIBATKAN KELUH...\n",
      "15     TRI;@triindonesia operator 3 tolong yah sinyal...\n",
      "16     TSEL;Membalas @Telkomsel mantap jiwa nih min h...\n",
      "17     INDOSAT;Terima kasih kepada sponsor yg sudah m...\n",
      "18     XL;@myXL sinyal dimana2 cuma H+ padahal paket ...\n",
      "19     XL;Membalas @myXL @Feriza07 woy @myXLCare anji...\n",
      "20     TRI;\"-____- RT @DianSaaputra: Aseek.. \"\"NICK0M...\n",
      "21     TRI;Frontal cuk :))RT @dwikyoutSIDers: Bangsat...\n",
      "22     TSEL;Memang terBAIK sakali iye teh TELKOMSEL  ...\n",
      "23     XL;Ya ampun. Sinyal @myXL sangat kencang sekal...\n",
      "24          INDOSAT;Indosat sinyale koyo NGELEC.... Asu \n",
      "25     TRI;@triindonesia gimana nichinternet untuk wi...\n",
      "26     XL;Haloo.. @myXL @myXLCare bagaimana nasib kel...\n",
      "27     XL;\"Makassar lg seru banget nih guys sore ini ...\n",
      "28     INDOSAT;kecewa berat saiah dengan @XLcare lebi...\n",
      "29     INDOSAT;\"@IndosatCare min jaringan indosat lem...\n",
      "...                                                  ...\n",
      "11629  TSEL;@Telkomsel YANG BENER APA SINYAL JELEK BG...\n",
      "11630  TRI;Membalas @frenky_id @FRENKY_ID ancak ma  k...\n",
      "11631  TSEL;\"Pancen ket mw g iso tweeeeettt ... Jancu...\n",
      "11632  TRI;Membalas @triindonesia @triindonesia Alham...\n",
      "11633  INDOSAT;indosat kece mantap bgt buat main aov ...\n",
      "11634  XL;Duuh xl makin kesini makin parah sinyalnya....\n",
      "11635  TSEL;Telkomsel ini memang pacar terbaik ku tia...\n",
      "11636  INDOSAT;Membalas @IndosatCare @IndosatCare mem...\n",
      "11637  XL;\"Wkwk =)) \"\"@R_STWN: Telkomsel aehsinyal\"\"e...\n",
      "11638  XL;Membalas @myXL 1.paket XL GO IZI lebih maha...\n",
      "11639  INDOSAT;Kalo malem aja coneksinya cepet emg in...\n",
      "11640  TSEL;\"(((Bangey))) RT @angkugadang_: \"\"@STORH_...\n",
      "11641  INDOSAT;@IndosatCare selamat pagi. Maaf mau ta...\n",
      "11642  TSEL;Aku akuin kartu paketan yg terbaik itu me...\n",
      "11643  TRI;TINGGINYA ANTUSIASME PELANGGAN apaan tamba...\n",
      "11644  INDOSAT;Membalas @IndosatCare Pengalaman menye...\n",
      "11645  TSEL;adakah praktisi hukum yg bisa diajak guga...\n",
      "11646  TSEL;RT @DBaikrmBaiknsyBaikh: @TulusAbadi Bro ...\n",
      "11647  TRI;@triindonesia WOY INI NGAPA SIH SINYAL KAY...\n",
      "11648  TRI;BODO grrrr RT @rifkiekky: Sabar mbak jan m...\n",
      "11649                     TSEL;Telkomsel memang terbaik \n",
      "11650  XL;Berkat koneksi XL yang ngebut dan sinyal Ba...\n",
      "11651  TSEL;@Telkomsel PENINGKATAN SISTEM TAI PROVIDE...\n",
      "11652  TRI;Membalas @triindonesia @jinana9Baik00 Nant...\n",
      "11653  XL;@myXL @myXLCare sinyal di daerah Halimun Ja...\n",
      "11654                       INDOSAT;Indosat koyo asu... \n",
      "11655  TSEL;Membalas @yuraldi_majesty @yuraldi wes ik...\n",
      "11656  XL;Ni tumben2nya ni sinyal XL balap di rumah k...\n",
      "11657  TRI;ah sayang bgt disini sinyal 3nya g stabil ...\n",
      "11658  TRI;Bangga bange pake Tri  paket BB murah kone...\n",
      "\n",
      "[11659 rows x 1 columns]\n"
     ]
    }
   ],
   "source": [
    "print(b)"
   ]
  },
  {
   "cell_type": "code",
   "execution_count": 20,
   "metadata": {},
   "outputs": [
    {
     "name": "stdout",
     "output_type": "stream",
     "text": [
      "sudah\n"
     ]
    }
   ],
   "source": [
    "SangatBaik = data[data[\"class\"]== 'Sangat Baik']\n",
    "SangatBaik.to_csv('SangatBaik.csv', header = None, index = None, sep = ';', mode = 'a')\n",
    "print('sudah')"
   ]
  },
  {
   "cell_type": "code",
   "execution_count": 21,
   "metadata": {},
   "outputs": [
    {
     "name": "stdout",
     "output_type": "stream",
     "text": [
      "sudah\n"
     ]
    }
   ],
   "source": [
    "Baik = data[data[\"class\"]== 'Baik']\n",
    "Baik.to_csv('Baik.csv', header = None, index = None, sep = ';', mode = 'a')\n",
    "print('sudah')"
   ]
  },
  {
   "cell_type": "code",
   "execution_count": 22,
   "metadata": {},
   "outputs": [
    {
     "name": "stdout",
     "output_type": "stream",
     "text": [
      "sudah\n"
     ]
    }
   ],
   "source": [
    "SangatTidakBaik = data[data[\"class\"]== 'Sangat Tidak Baik']\n",
    "SangatTidakBaik.to_csv('SangatTidakBaik.csv', header = None, index = None, sep = ';', mode = 'a')\n",
    "print('sudah')"
   ]
  },
  {
   "cell_type": "code",
   "execution_count": 23,
   "metadata": {},
   "outputs": [
    {
     "name": "stdout",
     "output_type": "stream",
     "text": [
      "sudah\n"
     ]
    }
   ],
   "source": [
    "TidakBaik = data[data[\"class\"]== 'Tidak Baik']\n",
    "TidakBaik.to_csv('TidakBaik.csv', header = None, index = None, sep = ';', mode = 'a')\n",
    "print('sudah')"
   ]
  },
  {
   "cell_type": "code",
   "execution_count": 24,
   "metadata": {},
   "outputs": [
    {
     "name": "stdout",
     "output_type": "stream",
     "text": [
      "sudah\n"
     ]
    }
   ],
   "source": [
    "Netral = data[data[\"class\"]== 'Netral']\n",
    "Netral.to_csv('Netral.csv', header = None, index = None, sep = ';', mode = 'a')\n",
    "print('sudah')"
   ]
  },
  {
   "cell_type": "code",
   "execution_count": null,
   "metadata": {},
   "outputs": [],
   "source": []
  }
 ],
 "metadata": {
  "kernelspec": {
   "display_name": "Python 3",
   "language": "python",
   "name": "python3"
  },
  "language_info": {
   "codemirror_mode": {
    "name": "ipython",
    "version": 3
   },
   "file_extension": ".py",
   "mimetype": "text/x-python",
   "name": "python",
   "nbconvert_exporter": "python",
   "pygments_lexer": "ipython3",
   "version": "3.6.4"
  }
 },
 "nbformat": 4,
 "nbformat_minor": 2
}
